{
 "cells": [
  {
   "cell_type": "code",
   "execution_count": null,
   "id": "63aac997",
   "metadata": {},
   "outputs": [],
   "source": [
    "import pandas as pd\n",
    "import os\n",
    "import matplotlib.pyplot as plt\n",
    "import numpy as np\n",
    "import shutil\n",
    "\n",
    "train_scores = pd.read_csv('train_scores.csv')"
   ]
  },
  {
   "cell_type": "code",
   "execution_count": 5,
   "id": "633ea388",
   "metadata": {},
   "outputs": [],
   "source": [
    "all_files = os.listdir('yolo/datasets/tiled_prune_bg_050725/train')\n",
    "jpg_files = [f for f in all_files if f.lower().endswith('.jpg')]\n",
    "txt_basenames = {os.path.splitext(f)[0] for f in all_files if f.lower().endswith('.txt')}\n",
    "bg_filenames = [f for f in jpg_files if os.path.splitext(f)[0] not in txt_basenames]\n",
    "bg_train_scores = train_scores[train_scores['file'].isin(bg_filenames)]\n"
   ]
  },
  {
   "cell_type": "code",
   "execution_count": 31,
   "id": "3490061b",
   "metadata": {},
   "outputs": [
    {
     "data": {
      "text/plain": [
       "5364"
      ]
     },
     "execution_count": 31,
     "metadata": {},
     "output_type": "execute_result"
    }
   ],
   "source": [
    "tp_filenames = [f for f in jpg_files if os.path.splitext(f)[0] in txt_basenames]\n",
    "len(tp_filenames)"
   ]
  },
  {
   "cell_type": "code",
   "execution_count": 7,
   "id": "fe0aa384",
   "metadata": {},
   "outputs": [],
   "source": [
    "bg_train_scores = bg_train_scores.loc[bg_train_scores.groupby('file')['conf'].idxmax()]\n"
   ]
  },
  {
   "cell_type": "code",
   "execution_count": 20,
   "id": "80eb5b73",
   "metadata": {},
   "outputs": [
    {
     "data": {
      "image/png": "[encoded data removed]",
      "text/plain": [
       "<Figure size 800x600 with 1 Axes>"
      ]
     },
     "metadata": {},
     "output_type": "display_data"
    }
   ],
   "source": [
    "plt.figure(figsize=(8, 6))\n",
    "plt.hist(bg_train_scores['conf'], bins=50, edgecolor=None)\n",
    "plt.title('Distribution of Confidence Scores')\n",
    "plt.xlabel('Confidence Score')\n",
    "plt.ylabel('Frequency')\n",
    "plt.grid(True)\n",
    "plt.show()"
   ]
  },
  {
   "cell_type": "code",
   "execution_count": 24,
   "id": "c8a6b22f",
   "metadata": {},
   "outputs": [
    {
     "data": {
      "text/plain": [
       "5364"
      ]
     },
     "execution_count": 24,
     "metadata": {},
     "output_type": "execute_result"
    }
   ],
   "source": [
    "len(all_files) - len(jpg_files)"
   ]
  },
  {
   "cell_type": "code",
   "execution_count": 43,
   "id": "d81ae3cf",
   "metadata": {},
   "outputs": [
    {
     "data": {
      "text/plain": [
       "5283"
      ]
     },
     "execution_count": 43,
     "metadata": {},
     "output_type": "execute_result"
    }
   ],
   "source": [
    "keep_bg = bg_train_scores[bg_train_scores['conf'] >= 0.003]\n",
    "len(keep_bg)"
   ]
  },
  {
   "cell_type": "code",
   "execution_count": 26,
   "id": "80231e6d",
   "metadata": {},
   "outputs": [],
   "source": [
    "keep_bg['file'].to_csv('keep_train_bgs.txt', index=False, header=False)"
   ]
  },
  {
   "cell_type": "code",
   "execution_count": null,
   "id": "57e28ada",
   "metadata": {},
   "outputs": [
    {
     "data": {
      "text/plain": [
       "5592900      0001_t2_fs_20220912_1.jpg\n",
       "1878600     0001_t2_fs_20220912_10.jpg\n",
       "366300      0001_t2_fs_20220912_11.jpg\n",
       "12450600    0001_t2_fs_20220912_12.jpg\n",
       "6268200      0001_t2_fs_20220912_6.jpg\n",
       "                       ...            \n",
       "9005400     pi9_20240817_151916_14.jpg\n",
       "7671300      pi9_20240817_151916_5.jpg\n",
       "4167900     pi9_20240817_153543_13.jpg\n",
       "7312800      pi9_20240817_153543_5.jpg\n",
       "2948400      pi9_20240817_192334_9.jpg\n",
       "Name: file, Length: 5283, dtype: object"
      ]
     },
     "execution_count": 44,
     "metadata": {},
     "output_type": "execute_result"
    }
   ],
   "source": [
    "keep_bg_filenames = keep_bg['file']\n"
   ]
  },
  {
   "cell_type": "code",
   "execution_count": null,
   "id": "191f6061",
   "metadata": {},
   "outputs": [],
   "source": [
    "# image_dir = 'yolo/datasets/tiled_balance_bg_052025/train'\n",
    "\n",
    "\n",
    "# all_jpgs = [f for f in os.listdir(image_dir) if f.lower().endswith('.jpg')]\n",
    "\n",
    "# for jpg in all_jpgs:\n",
    "#     base_name = os.path.splitext(jpg)[0]\n",
    "#     jpg_path = os.path.join(image_dir, jpg)\n",
    "#     txt_path = os.path.join(image_dir, base_name + '.txt')\n",
    "\n",
    "#     has_txt = os.path.exists(txt_path)\n",
    "\n",
    "#     if not has_txt and jpg not in keep_bg_filenames:\n",
    "#         os.remove(jpg_path)\n",
    "#     elif jpg in keep_bg_filenames and has_txt:\n",
    "#         print(f\"Warning: {jpg} has an unexpected .txt pair.\")\n"
   ]
  },
  {
   "cell_type": "code",
   "execution_count": 47,
   "id": "3226e7d1",
   "metadata": {},
   "outputs": [],
   "source": [
    "src_dir = 'yolo/datasets/tiled_prune_bg_050725/train'\n",
    "dst_dir = 'yolo/datasets/tiled_balance_bg_052025/train'\n",
    "\n",
    "for filename in tp_filenames:\n",
    "    src_img = os.path.join(src_dir, filename)\n",
    "    src_txt = os.path.join(src_dir, os.path.splitext(filename)[0] + '.txt')\n",
    "\n",
    "    dst_img = os.path.join(dst_dir, filename)\n",
    "    dst_txt = os.path.join(dst_dir, os.path.splitext(filename)[0] + '.txt')\n",
    "\n",
    "    if os.path.exists(src_img):\n",
    "        shutil.copy2(src_img, dst_img)\n",
    "    else:\n",
    "        print(f\"Image file not found: {src_img}\")\n",
    "\n",
    "    if os.path.exists(src_txt):\n",
    "        # print('bg {filename} has txt file')\n",
    "        shutil.copy2(src_txt, dst_txt)\n",
    "    else:\n",
    "        print(f\"Warning: No .txt file for {filename}\")"
   ]
  },
  {
   "cell_type": "code",
   "execution_count": 48,
   "id": "c0e0ba72",
   "metadata": {},
   "outputs": [],
   "source": [
    "import os\n",
    "import shutil\n",
    "\n",
    "src_dir = 'yolo/datasets/tiled_prune_bg_050725/val'\n",
    "dst_dir = 'yolo/datasets/val_tps'\n",
    "\n",
    "os.makedirs(dst_dir, exist_ok=True)\n",
    "for file in os.listdir(src_dir):\n",
    "    if file.lower().endswith('.jpg'):\n",
    "        base_name = os.path.splitext(file)[0]\n",
    "        jpg_path = os.path.join(src_dir, file)\n",
    "        txt_path = os.path.join(src_dir, base_name + '.txt')\n",
    "\n",
    "        if os.path.exists(txt_path):\n",
    "            shutil.copy2(jpg_path, os.path.join(dst_dir, file))\n",
    "            shutil.copy2(txt_path, os.path.join(dst_dir, base_name + '.txt'))\n"
   ]
  },
  {
   "cell_type": "markdown",
   "id": "9910d708",
   "metadata": {},
   "source": [
    "## DUPLICATE HARD NEGS"
   ]
  },
  {
   "cell_type": "code",
   "execution_count": 49,
   "id": "3fc94fee",
   "metadata": {},
   "outputs": [],
   "source": [
    "from pathlib import Path\n",
    "\n",
    "csv_path = 'hard_negs.csv'\n",
    "image_dir = Path('yolo/datasets/tiled_balance_bg_052025/train')\n",
    "\n",
    "df = pd.read_csv(csv_path)\n",
    "\n",
    "for filename in df['file']:\n",
    "    src_path = image_dir / filename\n",
    "    if src_path.exists():\n",
    "        base, ext = os.path.splitext(filename)\n",
    "        dst_filename = f\"{base}_2{ext}\"\n",
    "        dst_path = image_dir / dst_filename\n",
    "        shutil.copy2(src_path, dst_path)\n",
    "    else:\n",
    "        print(f\"File not found: {src_path}\")"
   ]
  }
 ],
 "metadata": {
  "kernelspec": {
   "display_name": "yolo11",
   "language": "python",
   "name": "python3"
  },
  "language_info": {
   "codemirror_mode": {
    "name": "ipython",
    "version": 3
   },
   "file_extension": ".py",
   "mimetype": "text/x-python",
   "name": "python",
   "nbconvert_exporter": "python",
   "pygments_lexer": "ipython3",
   "version": "3.12.9"
  }
 },
 "nbformat": 4,
 "nbformat_minor": 5
}
