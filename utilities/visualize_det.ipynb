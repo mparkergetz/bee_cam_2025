{
 "cells": [
  {
   "cell_type": "code",
   "execution_count": 8,
   "id": "c05a46f7",
   "metadata": {},
   "outputs": [
    {
     "name": "stderr",
     "output_type": "stream",
     "text": [
      "[ WARN:0@549.185] global loadsave.cpp:241 findDecoder imread_(''yolo/datasets/cleaned_trainval_110724/val/pi10_20240713_135304.jpg'): can't open/read file: check file path/integrity\n"
     ]
    },
    {
     "ename": "AttributeError",
     "evalue": "'NoneType' object has no attribute 'shape'",
     "output_type": "error",
     "traceback": [
      "\u001b[0;31m---------------------------------------------------------------------------\u001b[0m",
      "\u001b[0;31mAttributeError\u001b[0m                            Traceback (most recent call last)",
      "Cell \u001b[0;32mIn[8], line 11\u001b[0m\n\u001b[1;32m      9\u001b[0m act \u001b[38;5;241m=\u001b[39m feat\u001b[38;5;241m.\u001b[39mmax(\u001b[38;5;241m0\u001b[39m)                         \u001b[38;5;66;03m# or .mean(0)\u001b[39;00m\n\u001b[1;32m     10\u001b[0m act \u001b[38;5;241m=\u001b[39m (act \u001b[38;5;241m-\u001b[39m act\u001b[38;5;241m.\u001b[39mmin()) \u001b[38;5;241m/\u001b[39m (act\u001b[38;5;241m.\u001b[39mmax() \u001b[38;5;241m+\u001b[39m \u001b[38;5;241m1e-6\u001b[39m)\n\u001b[0;32m---> 11\u001b[0m act_up \u001b[38;5;241m=\u001b[39m cv2\u001b[38;5;241m.\u001b[39mresize(act, (\u001b[43mimg\u001b[49m\u001b[38;5;241;43m.\u001b[39;49m\u001b[43mshape\u001b[49m[\u001b[38;5;241m1\u001b[39m], img\u001b[38;5;241m.\u001b[39mshape[\u001b[38;5;241m0\u001b[39m]), cv2\u001b[38;5;241m.\u001b[39mINTER_CUBIC)\n\u001b[1;32m     12\u001b[0m heat \u001b[38;5;241m=\u001b[39m cv2\u001b[38;5;241m.\u001b[39mapplyColorMap((act_up\u001b[38;5;241m*\u001b[39m\u001b[38;5;241m255\u001b[39m)\u001b[38;5;241m.\u001b[39mastype(np\u001b[38;5;241m.\u001b[39muint8), cv2\u001b[38;5;241m.\u001b[39mCOLORMAP_JET)\n\u001b[1;32m     13\u001b[0m overlay \u001b[38;5;241m=\u001b[39m cv2\u001b[38;5;241m.\u001b[39maddWeighted(img, \u001b[38;5;241m0.6\u001b[39m, heat, \u001b[38;5;241m0.4\u001b[39m, \u001b[38;5;241m0\u001b[39m)\n",
      "\u001b[0;31mAttributeError\u001b[0m: 'NoneType' object has no attribute 'shape'"
     ]
    }
   ],
   "source": [
    "import numpy as np, cv2, glob, os\n",
    "\n",
    "img = cv2.imread(\"'yolo/datasets/cleaned_trainval_110724/val/pi10_20240713_135304.jpg\")\n",
    "npy_files = glob.glob(\"runs/detect/predict2/pi10_20240713_135304/*_features.npy\")\n",
    "\n",
    "for f in sorted(npy_files):\n",
    "    feat = np.load(f)\n",
    "    if feat.ndim == 4: feat = feat[0]         # drop batch dim if present\n",
    "    act = feat.max(0)                         # or .mean(0)\n",
    "    act = (act - act.min()) / (act.max() + 1e-6)\n",
    "    act_up = cv2.resize(act, (img.shape[1], img.shape[0]), cv2.INTER_CUBIC)\n",
    "    heat = cv2.applyColorMap((act_up*255).astype(np.uint8), cv2.COLORMAP_JET)\n",
    "    overlay = cv2.addWeighted(img, 0.6, heat, 0.4, 0)\n",
    "    out = f.replace(\"_features.npy\", \"_heat.jpg\")\n",
    "    cv2.imwrite(out, overlay)\n",
    "    print(\"wrote\", out)\n"
   ]
  }
 ],
 "metadata": {
  "kernelspec": {
   "display_name": "yolo11",
   "language": "python",
   "name": "python3"
  },
  "language_info": {
   "codemirror_mode": {
    "name": "ipython",
    "version": 3
   },
   "file_extension": ".py",
   "mimetype": "text/x-python",
   "name": "python",
   "nbconvert_exporter": "python",
   "pygments_lexer": "ipython3",
   "version": "3.12.9"
  }
 },
 "nbformat": 4,
 "nbformat_minor": 5
}
