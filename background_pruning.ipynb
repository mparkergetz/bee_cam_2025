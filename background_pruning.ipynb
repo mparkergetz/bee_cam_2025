{
 "cells": [
  {
   "cell_type": "code",
   "execution_count": null,
   "id": "7ffd6912",
   "metadata": {},
   "outputs": [],
   "source": []
  }
 ],
 "metadata": {
  "kernelspec": {
   "display_name": "bee_mapping",
   "language": "python",
   "name": "python3"
  },
  "language_info": {
   "name": "python",
   "version": "3.12.0"
  }
 },
 "nbformat": 4,
 "nbformat_minor": 5
}
