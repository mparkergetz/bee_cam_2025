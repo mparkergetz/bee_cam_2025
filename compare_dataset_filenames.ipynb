{
 "cells": [
  {
   "cell_type": "code",
   "execution_count": 1,
   "id": "88d85e06",
   "metadata": {},
   "outputs": [],
   "source": [
    "import pandas as pd"
   ]
  },
  {
   "cell_type": "code",
   "execution_count": 9,
   "id": "b8ab2963",
   "metadata": {},
   "outputs": [
    {
     "name": "stderr",
     "output_type": "stream",
     "text": [
      "/tmp/ipykernel_1219290/2758680242.py:3: SettingWithCopyWarning: \n",
      "A value is trying to be set on a copy of a slice from a DataFrame.\n",
      "Try using .loc[row_indexer,col_indexer] = value instead\n",
      "\n",
      "See the caveats in the documentation: https://pandas.pydata.org/pandas-docs/stable/user_guide/indexing.html#returning-a-view-versus-a-copy\n",
      "  ctv_train_tp['filename'] = ctv_train_tp['file'].str[:-4]\n"
     ]
    },
    {
     "data": {
      "application/vnd.microsoft.datawrangler.viewer.v0+json": {
       "columns": [
        {
         "name": "index",
         "rawType": "int64",
         "type": "integer"
        },
        {
         "name": "file",
         "rawType": "object",
         "type": "string"
        },
        {
         "name": "tp",
         "rawType": "int64",
         "type": "integer"
        },
        {
         "name": "filename",
         "rawType": "object",
         "type": "string"
        }
       ],
       "ref": "9ff1b447-5cdf-4862-af3e-080fa2d7caca",
       "rows": [
        [
         "3",
         "pi9_20240723_090924.jpg",
         "1",
         "pi9_20240723_090924"
        ],
        [
         "6",
         "0586_t1_fs_20230611.jpg",
         "1",
         "0586_t1_fs_20230611"
        ],
        [
         "8",
         "6111_t3_fn_20230708.jpg",
         "1",
         "6111_t3_fn_20230708"
        ],
        [
         "9",
         "0300_t1_fs_20230610.jpg",
         "1",
         "0300_t1_fs_20230610"
        ],
        [
         "26",
         "pi9_20240723_093754.jpg",
         "1",
         "pi9_20240723_093754"
        ],
        [
         "31",
         "1663_t2_fs_20230630.jpg",
         "1",
         "1663_t2_fs_20230630"
        ],
        [
         "32",
         "3870_t3_fn_20230706.jpg",
         "1",
         "3870_t3_fn_20230706"
        ],
        [
         "35",
         "6363_t3_fn_20230713.jpg",
         "1",
         "6363_t3_fn_20230713"
        ],
        [
         "45",
         "3204_t2_fn_20230702.jpg",
         "1",
         "3204_t2_fn_20230702"
        ],
        [
         "51",
         "4940_t3_fn_20230707.jpg",
         "1",
         "4940_t3_fn_20230707"
        ],
        [
         "62",
         "6397_t2_fn_20230714.jpg",
         "1",
         "6397_t2_fn_20230714"
        ],
        [
         "64",
         "0743_t1_fs_20230611.jpg",
         "1",
         "0743_t1_fs_20230611"
        ],
        [
         "70",
         "0908_t2_fs_20230629.jpg",
         "1",
         "0908_t2_fs_20230629"
        ],
        [
         "74",
         "6402_t2_fn_20230714.jpg",
         "1",
         "6402_t2_fn_20230714"
        ],
        [
         "75",
         "4094_t3_fn_20230706.jpg",
         "1",
         "4094_t3_fn_20230706"
        ],
        [
         "80",
         "1527_t2_fs_20230630.jpg",
         "1",
         "1527_t2_fs_20230630"
        ],
        [
         "87",
         "pi9_20240723_100622.jpg",
         "1",
         "pi9_20240723_100622"
        ],
        [
         "90",
         "1519_t2_fs_20230630.jpg",
         "1",
         "1519_t2_fs_20230630"
        ],
        [
         "92",
         "1450_t2_fs_20230629.jpg",
         "1",
         "1450_t2_fs_20230629"
        ],
        [
         "93",
         "3722_t3_fn_20230706.jpg",
         "1",
         "3722_t3_fn_20230706"
        ],
        [
         "95",
         "7040_t4_fn_20230721.jpg",
         "1",
         "7040_t4_fn_20230721"
        ],
        [
         "100",
         "1244_t2_fs_20230629.jpg",
         "1",
         "1244_t2_fs_20230629"
        ],
        [
         "103",
         "pi9_20240723_093728.jpg",
         "1",
         "pi9_20240723_093728"
        ],
        [
         "106",
         "pi9_20240723_103041.jpg",
         "1",
         "pi9_20240723_103041"
        ],
        [
         "107",
         "6270_t3_fn_20230712.jpg",
         "1",
         "6270_t3_fn_20230712"
        ],
        [
         "115",
         "6140_t3_fn_20230708.jpg",
         "1",
         "6140_t3_fn_20230708"
        ],
        [
         "118",
         "pi9_20240723_094342.jpg",
         "1",
         "pi9_20240723_094342"
        ],
        [
         "123",
         "6490_t2_fn_20230715.jpg",
         "1",
         "6490_t2_fn_20230715"
        ],
        [
         "128",
         "0281_t1_fs_20230610.jpg",
         "1",
         "0281_t1_fs_20230610"
        ],
        [
         "130",
         "0407_t1_fs_20230611.jpg",
         "1",
         "0407_t1_fs_20230611"
        ],
        [
         "136",
         "0439_t1_fs_20230611.jpg",
         "1",
         "0439_t1_fs_20230611"
        ],
        [
         "138",
         "1394_t2_fs_20230629.jpg",
         "1",
         "1394_t2_fs_20230629"
        ],
        [
         "146",
         "pi9_20240723_092327.jpg",
         "1",
         "pi9_20240723_092327"
        ],
        [
         "158",
         "pi9_20240723_093106.jpg",
         "1",
         "pi9_20240723_093106"
        ],
        [
         "184",
         "pi9_20240723_094052.jpg",
         "1",
         "pi9_20240723_094052"
        ],
        [
         "186",
         "2388_t2_fs_20230630.jpg",
         "1",
         "2388_t2_fs_20230630"
        ],
        [
         "191",
         "6995_t4_fn_20230719.jpg",
         "1",
         "6995_t4_fn_20230719"
        ],
        [
         "192",
         "pi9_20240723_093059.jpg",
         "1",
         "pi9_20240723_093059"
        ],
        [
         "197",
         "pi9_20240723_100625.jpg",
         "1",
         "pi9_20240723_100625"
        ],
        [
         "199",
         "0994_t2_fs_20230629.jpg",
         "1",
         "0994_t2_fs_20230629"
        ],
        [
         "200",
         "0100_t2_fs_20220913.jpg",
         "1",
         "0100_t2_fs_20220913"
        ],
        [
         "205",
         "pi9_20240723_103046.jpg",
         "1",
         "pi9_20240723_103046"
        ],
        [
         "207",
         "0272_t1_fs_20230610.jpg",
         "1",
         "0272_t1_fs_20230610"
        ],
        [
         "209",
         "3329_t2_fn_20230704.jpg",
         "1",
         "3329_t2_fn_20230704"
        ],
        [
         "214",
         "pi9_20240723_095505.jpg",
         "1",
         "pi9_20240723_095505"
        ],
        [
         "218",
         "3317_t2_fn_20230704.jpg",
         "1",
         "3317_t2_fn_20230704"
        ],
        [
         "227",
         "4566_t3_fn_20230706.jpg",
         "1",
         "4566_t3_fn_20230706"
        ],
        [
         "228",
         "3441_t2_fn_20230705.jpg",
         "1",
         "3441_t2_fn_20230705"
        ],
        [
         "231",
         "7021_t4_fn_20230720.jpg",
         "1",
         "7021_t4_fn_20230720"
        ],
        [
         "235",
         "4673_t3_fn_20230706.jpg",
         "1",
         "4673_t3_fn_20230706"
        ]
       ],
       "shape": {
        "columns": 3,
        "rows": 1943
       }
      },
      "text/html": [
       "<div>\n",
       "<style scoped>\n",
       "    .dataframe tbody tr th:only-of-type {\n",
       "        vertical-align: middle;\n",
       "    }\n",
       "\n",
       "    .dataframe tbody tr th {\n",
       "        vertical-align: top;\n",
       "    }\n",
       "\n",
       "    .dataframe thead th {\n",
       "        text-align: right;\n",
       "    }\n",
       "</style>\n",
       "<table border=\"1\" class=\"dataframe\">\n",
       "  <thead>\n",
       "    <tr style=\"text-align: right;\">\n",
       "      <th></th>\n",
       "      <th>file</th>\n",
       "      <th>tp</th>\n",
       "      <th>filename</th>\n",
       "    </tr>\n",
       "  </thead>\n",
       "  <tbody>\n",
       "    <tr>\n",
       "      <th>3</th>\n",
       "      <td>pi9_20240723_090924.jpg</td>\n",
       "      <td>1</td>\n",
       "      <td>pi9_20240723_090924</td>\n",
       "    </tr>\n",
       "    <tr>\n",
       "      <th>6</th>\n",
       "      <td>0586_t1_fs_20230611.jpg</td>\n",
       "      <td>1</td>\n",
       "      <td>0586_t1_fs_20230611</td>\n",
       "    </tr>\n",
       "    <tr>\n",
       "      <th>8</th>\n",
       "      <td>6111_t3_fn_20230708.jpg</td>\n",
       "      <td>1</td>\n",
       "      <td>6111_t3_fn_20230708</td>\n",
       "    </tr>\n",
       "    <tr>\n",
       "      <th>9</th>\n",
       "      <td>0300_t1_fs_20230610.jpg</td>\n",
       "      <td>1</td>\n",
       "      <td>0300_t1_fs_20230610</td>\n",
       "    </tr>\n",
       "    <tr>\n",
       "      <th>26</th>\n",
       "      <td>pi9_20240723_093754.jpg</td>\n",
       "      <td>1</td>\n",
       "      <td>pi9_20240723_093754</td>\n",
       "    </tr>\n",
       "    <tr>\n",
       "      <th>...</th>\n",
       "      <td>...</td>\n",
       "      <td>...</td>\n",
       "      <td>...</td>\n",
       "    </tr>\n",
       "    <tr>\n",
       "      <th>10616</th>\n",
       "      <td>pi9_20240723_094636.jpg</td>\n",
       "      <td>1</td>\n",
       "      <td>pi9_20240723_094636</td>\n",
       "    </tr>\n",
       "    <tr>\n",
       "      <th>10617</th>\n",
       "      <td>6471_t2_fn_20230715.jpg</td>\n",
       "      <td>1</td>\n",
       "      <td>6471_t2_fn_20230715</td>\n",
       "    </tr>\n",
       "    <tr>\n",
       "      <th>10627</th>\n",
       "      <td>pi9_20240723_094257.jpg</td>\n",
       "      <td>1</td>\n",
       "      <td>pi9_20240723_094257</td>\n",
       "    </tr>\n",
       "    <tr>\n",
       "      <th>10630</th>\n",
       "      <td>7033_t4_fn_20230720.jpg</td>\n",
       "      <td>1</td>\n",
       "      <td>7033_t4_fn_20230720</td>\n",
       "    </tr>\n",
       "    <tr>\n",
       "      <th>10633</th>\n",
       "      <td>3453_t2_fn_20230705.jpg</td>\n",
       "      <td>1</td>\n",
       "      <td>3453_t2_fn_20230705</td>\n",
       "    </tr>\n",
       "  </tbody>\n",
       "</table>\n",
       "<p>1943 rows × 3 columns</p>\n",
       "</div>"
      ],
      "text/plain": [
       "                          file  tp             filename\n",
       "3      pi9_20240723_090924.jpg   1  pi9_20240723_090924\n",
       "6      0586_t1_fs_20230611.jpg   1  0586_t1_fs_20230611\n",
       "8      6111_t3_fn_20230708.jpg   1  6111_t3_fn_20230708\n",
       "9      0300_t1_fs_20230610.jpg   1  0300_t1_fs_20230610\n",
       "26     pi9_20240723_093754.jpg   1  pi9_20240723_093754\n",
       "...                        ...  ..                  ...\n",
       "10616  pi9_20240723_094636.jpg   1  pi9_20240723_094636\n",
       "10617  6471_t2_fn_20230715.jpg   1  6471_t2_fn_20230715\n",
       "10627  pi9_20240723_094257.jpg   1  pi9_20240723_094257\n",
       "10630  7033_t4_fn_20230720.jpg   1  7033_t4_fn_20230720\n",
       "10633  3453_t2_fn_20230705.jpg   1  3453_t2_fn_20230705\n",
       "\n",
       "[1943 rows x 3 columns]"
      ]
     },
     "execution_count": 9,
     "metadata": {},
     "output_type": "execute_result"
    }
   ],
   "source": [
    "ctv_train_files = pd.read_csv('yolo/datasets/cleaned_trainval_110724/train_list.txt', sep='\\t')\n",
    "ctv_train_tp = ctv_train_files[ctv_train_files['tp'] == 1]\n",
    "ctv_train_tp['filename'] = ctv_train_tp['file'].str[:-4]\n",
    "ctv_train_tp"
   ]
  },
  {
   "cell_type": "code",
   "execution_count": 6,
   "id": "8a8ba426",
   "metadata": {},
   "outputs": [
    {
     "data": {
      "application/vnd.microsoft.datawrangler.viewer.v0+json": {
       "columns": [
        {
         "name": "index",
         "rawType": "int64",
         "type": "integer"
        },
        {
         "name": "file",
         "rawType": "object",
         "type": "string"
        },
        {
         "name": "tp",
         "rawType": "int64",
         "type": "integer"
        }
       ],
       "ref": "820780c0-51c3-4aec-bb26-9cf19f1a8ddd",
       "rows": [
        [
         "5",
         "pi1_20240715_075744.jpg",
         "1"
        ],
        [
         "7",
         "pi3_20240715_145655.jpg",
         "1"
        ],
        [
         "8",
         "6784_t4_hj_20230719.jpg",
         "1"
        ],
        [
         "11",
         "6957_t4_hj_20230719.jpg",
         "1"
        ],
        [
         "13",
         "6969_t4_hj_20230719.jpg",
         "1"
        ],
        [
         "16",
         "6541_t4_hj_20230719.jpg",
         "1"
        ],
        [
         "21",
         "6654_t4_hj_20230719.jpg",
         "1"
        ],
        [
         "26",
         "pi3_20240715_111604.jpg",
         "1"
        ],
        [
         "34",
         "pi10_20240714_110746.jpg",
         "1"
        ],
        [
         "37",
         "6906_t4_hj_20230719.jpg",
         "1"
        ],
        [
         "40",
         "6938_t4_hj_20230719.jpg",
         "1"
        ],
        [
         "42",
         "pi1_20240713_090336.jpg",
         "1"
        ],
        [
         "55",
         "pi4_20240713_122733.jpg",
         "1"
        ],
        [
         "59",
         "pi1_20240713_065746.jpg",
         "1"
        ],
        [
         "66",
         "6605_t4_hj_20230719.jpg",
         "1"
        ],
        [
         "75",
         "pi1_20240712_124337.jpg",
         "1"
        ],
        [
         "76",
         "pi4_20240712_082647.jpg",
         "1"
        ],
        [
         "103",
         "pi1_20240713_065741.jpg",
         "1"
        ],
        [
         "104",
         "6726_t4_hj_20230719.jpg",
         "1"
        ],
        [
         "108",
         "6718_t4_hj_20230719.jpg",
         "1"
        ],
        [
         "115",
         "pi3_20240715_145652.jpg",
         "1"
        ],
        [
         "117",
         "6699_t4_hj_20230719.jpg",
         "1"
        ],
        [
         "122",
         "6874_t4_hj_20230719.jpg",
         "1"
        ],
        [
         "135",
         "pi4_20240712_082806.jpg",
         "1"
        ],
        [
         "136",
         "pi4_20240713_053524.jpg",
         "1"
        ],
        [
         "140",
         "pi1_20240714_131819.jpg",
         "1"
        ],
        [
         "145",
         "pi1_20240714_114244.jpg",
         "1"
        ],
        [
         "152",
         "pi1_20240713_100741.jpg",
         "1"
        ],
        [
         "153",
         "pi3_20240715_072827.jpg",
         "1"
        ],
        [
         "155",
         "pi4_20240712_082649.jpg",
         "1"
        ],
        [
         "156",
         "pi3_20240713_133118.jpg",
         "1"
        ],
        [
         "162",
         "6948_t4_hj_20230719.jpg",
         "1"
        ],
        [
         "167",
         "pi3_20240715_123329.jpg",
         "1"
        ],
        [
         "177",
         "6675_t4_hj_20230719.jpg",
         "1"
        ],
        [
         "182",
         "6898_t4_hj_20230719.jpg",
         "1"
        ],
        [
         "184",
         "6560_t4_hj_20230719.jpg",
         "1"
        ],
        [
         "191",
         "6919_t4_hj_20230719.jpg",
         "1"
        ],
        [
         "198",
         "6927_t4_hj_20230719.jpg",
         "1"
        ],
        [
         "200",
         "pi2_20240713_114253.jpg",
         "1"
        ],
        [
         "202",
         "pi3_20240715_103133.jpg",
         "1"
        ],
        [
         "213",
         "pi1_20240713_121622.jpg",
         "1"
        ],
        [
         "223",
         "6624_t4_hj_20230719.jpg",
         "1"
        ],
        [
         "231",
         "6531_t4_hj_20230719.jpg",
         "1"
        ],
        [
         "235",
         "pi3_20240715_122605.jpg",
         "1"
        ],
        [
         "237",
         "pi3_20240715_103134.jpg",
         "1"
        ],
        [
         "242",
         "pi3_20240715_122512.jpg",
         "1"
        ],
        [
         "248",
         "pi4_20240712_081842.jpg",
         "1"
        ],
        [
         "256",
         "pi3_20240714_145314.jpg",
         "1"
        ],
        [
         "263",
         "6707_t4_hj_20230719.jpg",
         "1"
        ],
        [
         "264",
         "pi3_20240715_134025.jpg",
         "1"
        ]
       ],
       "shape": {
        "columns": 2,
        "rows": 714
       }
      },
      "text/html": [
       "<div>\n",
       "<style scoped>\n",
       "    .dataframe tbody tr th:only-of-type {\n",
       "        vertical-align: middle;\n",
       "    }\n",
       "\n",
       "    .dataframe tbody tr th {\n",
       "        vertical-align: top;\n",
       "    }\n",
       "\n",
       "    .dataframe thead th {\n",
       "        text-align: right;\n",
       "    }\n",
       "</style>\n",
       "<table border=\"1\" class=\"dataframe\">\n",
       "  <thead>\n",
       "    <tr style=\"text-align: right;\">\n",
       "      <th></th>\n",
       "      <th>file</th>\n",
       "      <th>tp</th>\n",
       "    </tr>\n",
       "  </thead>\n",
       "  <tbody>\n",
       "    <tr>\n",
       "      <th>5</th>\n",
       "      <td>pi1_20240715_075744.jpg</td>\n",
       "      <td>1</td>\n",
       "    </tr>\n",
       "    <tr>\n",
       "      <th>7</th>\n",
       "      <td>pi3_20240715_145655.jpg</td>\n",
       "      <td>1</td>\n",
       "    </tr>\n",
       "    <tr>\n",
       "      <th>8</th>\n",
       "      <td>6784_t4_hj_20230719.jpg</td>\n",
       "      <td>1</td>\n",
       "    </tr>\n",
       "    <tr>\n",
       "      <th>11</th>\n",
       "      <td>6957_t4_hj_20230719.jpg</td>\n",
       "      <td>1</td>\n",
       "    </tr>\n",
       "    <tr>\n",
       "      <th>13</th>\n",
       "      <td>6969_t4_hj_20230719.jpg</td>\n",
       "      <td>1</td>\n",
       "    </tr>\n",
       "    <tr>\n",
       "      <th>...</th>\n",
       "      <td>...</td>\n",
       "      <td>...</td>\n",
       "    </tr>\n",
       "    <tr>\n",
       "      <th>4399</th>\n",
       "      <td>6858_t4_hj_20230719.jpg</td>\n",
       "      <td>1</td>\n",
       "    </tr>\n",
       "    <tr>\n",
       "      <th>4419</th>\n",
       "      <td>pi3_20240715_122409.jpg</td>\n",
       "      <td>1</td>\n",
       "    </tr>\n",
       "    <tr>\n",
       "      <th>4427</th>\n",
       "      <td>pi1_20240713_113055.jpg</td>\n",
       "      <td>1</td>\n",
       "    </tr>\n",
       "    <tr>\n",
       "      <th>4442</th>\n",
       "      <td>pi3_20240713_142054.jpg</td>\n",
       "      <td>1</td>\n",
       "    </tr>\n",
       "    <tr>\n",
       "      <th>4443</th>\n",
       "      <td>6734_t4_hj_20230719.jpg</td>\n",
       "      <td>1</td>\n",
       "    </tr>\n",
       "  </tbody>\n",
       "</table>\n",
       "<p>714 rows × 2 columns</p>\n",
       "</div>"
      ],
      "text/plain": [
       "                         file  tp\n",
       "5     pi1_20240715_075744.jpg   1\n",
       "7     pi3_20240715_145655.jpg   1\n",
       "8     6784_t4_hj_20230719.jpg   1\n",
       "11    6957_t4_hj_20230719.jpg   1\n",
       "13    6969_t4_hj_20230719.jpg   1\n",
       "...                       ...  ..\n",
       "4399  6858_t4_hj_20230719.jpg   1\n",
       "4419  pi3_20240715_122409.jpg   1\n",
       "4427  pi1_20240713_113055.jpg   1\n",
       "4442  pi3_20240713_142054.jpg   1\n",
       "4443  6734_t4_hj_20230719.jpg   1\n",
       "\n",
       "[714 rows x 2 columns]"
      ]
     },
     "execution_count": 6,
     "metadata": {},
     "output_type": "execute_result"
    }
   ],
   "source": [
    "ctv_val_files = pd.read_csv('yolo/datasets/cleaned_trainval_110724/val_list.txt', sep='\\t')\n",
    "ctv_val_tp = ctv_val_files[ctv_val_files['tp'] == 1]\n",
    "ctv_val_tp"
   ]
  },
  {
   "cell_type": "code",
   "execution_count": 17,
   "id": "cd031968",
   "metadata": {},
   "outputs": [
    {
     "name": "stderr",
     "output_type": "stream",
     "text": [
      "/tmp/ipykernel_1219290/98877922.py:3: SettingWithCopyWarning: \n",
      "A value is trying to be set on a copy of a slice from a DataFrame.\n",
      "Try using .loc[row_indexer,col_indexer] = value instead\n",
      "\n",
      "See the caveats in the documentation: https://pandas.pydata.org/pandas-docs/stable/user_guide/indexing.html#returning-a-view-versus-a-copy\n",
      "  tbbg_train_tp['filename'] = tbbg_train_tp['file'].str.replace(r'\\.jpg$', '', regex=True)\n",
      "/tmp/ipykernel_1219290/98877922.py:4: SettingWithCopyWarning: \n",
      "A value is trying to be set on a copy of a slice from a DataFrame.\n",
      "Try using .loc[row_indexer,col_indexer] = value instead\n",
      "\n",
      "See the caveats in the documentation: https://pandas.pydata.org/pandas-docs/stable/user_guide/indexing.html#returning-a-view-versus-a-copy\n",
      "  tbbg_train_tp['filename'] = tbbg_train_tp['filename'].str.replace(r'_\\d+$', '', regex=True)\n"
     ]
    },
    {
     "data": {
      "text/plain": [
       "1943"
      ]
     },
     "execution_count": 17,
     "metadata": {},
     "output_type": "execute_result"
    }
   ],
   "source": [
    "tbbg_train_files = pd.read_csv('yolo/datasets/tiled_balance_bg_052025/train_list.txt', sep='\\t')\n",
    "tbbg_train_tp = tbbg_train_files[tbbg_train_files['tp'] == 1]\n",
    "tbbg_train_tp['filename'] = tbbg_train_tp['file'].str.replace(r'\\.jpg$', '', regex=True)          \n",
    "tbbg_train_tp['filename'] = tbbg_train_tp['filename'].str.replace(r'_\\d+$', '', regex=True)     \n",
    "\n",
    "len(tbbg_train_tp['filename'].unique())"
   ]
  }
 ],
 "metadata": {
  "kernelspec": {
   "display_name": "yolo11",
   "language": "python",
   "name": "python3"
  },
  "language_info": {
   "codemirror_mode": {
    "name": "ipython",
    "version": 3
   },
   "file_extension": ".py",
   "mimetype": "text/x-python",
   "name": "python",
   "nbconvert_exporter": "python",
   "pygments_lexer": "ipython3",
   "version": "3.12.9"
  }
 },
 "nbformat": 4,
 "nbformat_minor": 5
}
